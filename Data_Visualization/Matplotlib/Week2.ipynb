{
 "cells": [
  {
   "cell_type": "markdown",
   "metadata": {},
   "source": [
    "# Basic Plotting with matplotlib"
   ]
  },
  {
   "cell_type": "markdown",
   "metadata": {},
   "source": [
    "You can show matplotlib figures directly in the notebook by using the `%matplotlib notebook` and `%matplotlib inline` magic commands. \n",
    "\n",
    "`%matplotlib notebook` provides an interactive environment."
   ]
  },
  {
   "cell_type": "code",
   "execution_count": 2,
   "metadata": {
    "collapsed": false
   },
   "outputs": [],
   "source": [
    "%matplotlib notebook"
   ]
  },
  {
   "cell_type": "code",
   "execution_count": 3,
   "metadata": {
    "collapsed": false
   },
   "outputs": [
    {
     "data": {
      "text/plain": [
       "'nbAgg'"
      ]
     },
     "execution_count": 3,
     "metadata": {},
     "output_type": "execute_result"
    }
   ],
   "source": [
    "import matplotlib as mpl\n",
    "mpl.get_backend()"
   ]
  },
  {
   "cell_type": "code",
   "execution_count": 5,
   "metadata": {
    "collapsed": false
   },
   "outputs": [],
   "source": [
    "import matplotlib.pyplot as plt\n",
    "plt.plot?"
   ]
  },
  {
   "cell_type": "code",
   "execution_count": 6,
   "metadata": {
    "collapsed": false
   },
   "outputs": [
    {
     "data": {
      "application/javascript": [
       "/* Put everything inside the global mpl namespace */\n",
       "window.mpl = {};\n",
       "\n",
       "\n",
       "mpl.get_websocket_type = function() {\n",
       "    if (typeof(WebSocket) !== 'undefined') {\n",
       "        return WebSocket;\n",
       "    } else if (typeof(MozWebSocket) !== 'undefined') {\n",
       "        return MozWebSocket;\n",
       "    } else {\n",
       "        alert('Your browser does not have WebSocket support.' +\n",
       "              'Please try Chrome, Safari or Firefox ≥ 6. ' +\n",
       "              'Firefox 4 and 5 are also supported but you ' +\n",
       "              'have to enable WebSockets in about:config.');\n",
       "    };\n",
       "}\n",
       "\n",
       "mpl.figure = function(figure_id, websocket, ondownload, parent_element) {\n",
       "    this.id = figure_id;\n",
       "\n",
       "    this.ws = websocket;\n",
       "\n",
       "    this.supports_binary = (this.ws.binaryType != undefined);\n",
       "\n",
       "    if (!this.supports_binary) {\n",
       "        var warnings = document.getElementById(\"mpl-warnings\");\n",
       "        if (warnings) {\n",
       "            warnings.style.display = 'block';\n",
       "            warnings.textContent = (\n",
       "                \"This browser does not support binary websocket messages. \" +\n",
       "                    \"Performance may be slow.\");\n",
       "        }\n",
       "    }\n",
       "\n",
       "    this.imageObj = new Image();\n",
       "\n",
       "    this.context = undefined;\n",
       "    this.message = undefined;\n",
       "    this.canvas = undefined;\n",
       "    this.rubberband_canvas = undefined;\n",
       "    this.rubberband_context = undefined;\n",
       "    this.format_dropdown = undefined;\n",
       "\n",
       "    this.image_mode = 'full';\n",
       "\n",
       "    this.root = $('<div/>');\n",
       "    this._root_extra_style(this.root)\n",
       "    this.root.attr('style', 'display: inline-block');\n",
       "\n",
       "    $(parent_element).append(this.root);\n",
       "\n",
       "    this._init_header(this);\n",
       "    this._init_canvas(this);\n",
       "    this._init_toolbar(this);\n",
       "\n",
       "    var fig = this;\n",
       "\n",
       "    this.waiting = false;\n",
       "\n",
       "    this.ws.onopen =  function () {\n",
       "            fig.send_message(\"supports_binary\", {value: fig.supports_binary});\n",
       "            fig.send_message(\"send_image_mode\", {});\n",
       "            if (mpl.ratio != 1) {\n",
       "                fig.send_message(\"set_dpi_ratio\", {'dpi_ratio': mpl.ratio});\n",
       "            }\n",
       "            fig.send_message(\"refresh\", {});\n",
       "        }\n",
       "\n",
       "    this.imageObj.onload = function() {\n",
       "            if (fig.image_mode == 'full') {\n",
       "                // Full images could contain transparency (where diff images\n",
       "                // almost always do), so we need to clear the canvas so that\n",
       "                // there is no ghosting.\n",
       "                fig.context.clearRect(0, 0, fig.canvas.width, fig.canvas.height);\n",
       "            }\n",
       "            fig.context.drawImage(fig.imageObj, 0, 0);\n",
       "        };\n",
       "\n",
       "    this.imageObj.onunload = function() {\n",
       "        this.ws.close();\n",
       "    }\n",
       "\n",
       "    this.ws.onmessage = this._make_on_message_function(this);\n",
       "\n",
       "    this.ondownload = ondownload;\n",
       "}\n",
       "\n",
       "mpl.figure.prototype._init_header = function() {\n",
       "    var titlebar = $(\n",
       "        '<div class=\"ui-dialog-titlebar ui-widget-header ui-corner-all ' +\n",
       "        'ui-helper-clearfix\"/>');\n",
       "    var titletext = $(\n",
       "        '<div class=\"ui-dialog-title\" style=\"width: 100%; ' +\n",
       "        'text-align: center; padding: 3px;\"/>');\n",
       "    titlebar.append(titletext)\n",
       "    this.root.append(titlebar);\n",
       "    this.header = titletext[0];\n",
       "}\n",
       "\n",
       "\n",
       "\n",
       "mpl.figure.prototype._canvas_extra_style = function(canvas_div) {\n",
       "\n",
       "}\n",
       "\n",
       "\n",
       "mpl.figure.prototype._root_extra_style = function(canvas_div) {\n",
       "\n",
       "}\n",
       "\n",
       "mpl.figure.prototype._init_canvas = function() {\n",
       "    var fig = this;\n",
       "\n",
       "    var canvas_div = $('<div/>');\n",
       "\n",
       "    canvas_div.attr('style', 'position: relative; clear: both; outline: 0');\n",
       "\n",
       "    function canvas_keyboard_event(event) {\n",
       "        return fig.key_event(event, event['data']);\n",
       "    }\n",
       "\n",
       "    canvas_div.keydown('key_press', canvas_keyboard_event);\n",
       "    canvas_div.keyup('key_release', canvas_keyboard_event);\n",
       "    this.canvas_div = canvas_div\n",
       "    this._canvas_extra_style(canvas_div)\n",
       "    this.root.append(canvas_div);\n",
       "\n",
       "    var canvas = $('<canvas/>');\n",
       "    canvas.addClass('mpl-canvas');\n",
       "    canvas.attr('style', \"left: 0; top: 0; z-index: 0; outline: 0\")\n",
       "\n",
       "    this.canvas = canvas[0];\n",
       "    this.context = canvas[0].getContext(\"2d\");\n",
       "\n",
       "    var backingStore = this.context.backingStorePixelRatio ||\n",
       "\tthis.context.webkitBackingStorePixelRatio ||\n",
       "\tthis.context.mozBackingStorePixelRatio ||\n",
       "\tthis.context.msBackingStorePixelRatio ||\n",
       "\tthis.context.oBackingStorePixelRatio ||\n",
       "\tthis.context.backingStorePixelRatio || 1;\n",
       "\n",
       "    mpl.ratio = (window.devicePixelRatio || 1) / backingStore;\n",
       "\n",
       "    var rubberband = $('<canvas/>');\n",
       "    rubberband.attr('style', \"position: absolute; left: 0; top: 0; z-index: 1;\")\n",
       "\n",
       "    var pass_mouse_events = true;\n",
       "\n",
       "    canvas_div.resizable({\n",
       "        start: function(event, ui) {\n",
       "            pass_mouse_events = false;\n",
       "        },\n",
       "        resize: function(event, ui) {\n",
       "            fig.request_resize(ui.size.width, ui.size.height);\n",
       "        },\n",
       "        stop: function(event, ui) {\n",
       "            pass_mouse_events = true;\n",
       "            fig.request_resize(ui.size.width, ui.size.height);\n",
       "        },\n",
       "    });\n",
       "\n",
       "    function mouse_event_fn(event) {\n",
       "        if (pass_mouse_events)\n",
       "            return fig.mouse_event(event, event['data']);\n",
       "    }\n",
       "\n",
       "    rubberband.mousedown('button_press', mouse_event_fn);\n",
       "    rubberband.mouseup('button_release', mouse_event_fn);\n",
       "    // Throttle sequential mouse events to 1 every 20ms.\n",
       "    rubberband.mousemove('motion_notify', mouse_event_fn);\n",
       "\n",
       "    rubberband.mouseenter('figure_enter', mouse_event_fn);\n",
       "    rubberband.mouseleave('figure_leave', mouse_event_fn);\n",
       "\n",
       "    canvas_div.on(\"wheel\", function (event) {\n",
       "        event = event.originalEvent;\n",
       "        event['data'] = 'scroll'\n",
       "        if (event.deltaY < 0) {\n",
       "            event.step = 1;\n",
       "        } else {\n",
       "            event.step = -1;\n",
       "        }\n",
       "        mouse_event_fn(event);\n",
       "    });\n",
       "\n",
       "    canvas_div.append(canvas);\n",
       "    canvas_div.append(rubberband);\n",
       "\n",
       "    this.rubberband = rubberband;\n",
       "    this.rubberband_canvas = rubberband[0];\n",
       "    this.rubberband_context = rubberband[0].getContext(\"2d\");\n",
       "    this.rubberband_context.strokeStyle = \"#000000\";\n",
       "\n",
       "    this._resize_canvas = function(width, height) {\n",
       "        // Keep the size of the canvas, canvas container, and rubber band\n",
       "        // canvas in synch.\n",
       "        canvas_div.css('width', width)\n",
       "        canvas_div.css('height', height)\n",
       "\n",
       "        canvas.attr('width', width * mpl.ratio);\n",
       "        canvas.attr('height', height * mpl.ratio);\n",
       "        canvas.attr('style', 'width: ' + width + 'px; height: ' + height + 'px;');\n",
       "\n",
       "        rubberband.attr('width', width);\n",
       "        rubberband.attr('height', height);\n",
       "    }\n",
       "\n",
       "    // Set the figure to an initial 600x600px, this will subsequently be updated\n",
       "    // upon first draw.\n",
       "    this._resize_canvas(600, 600);\n",
       "\n",
       "    // Disable right mouse context menu.\n",
       "    $(this.rubberband_canvas).bind(\"contextmenu\",function(e){\n",
       "        return false;\n",
       "    });\n",
       "\n",
       "    function set_focus () {\n",
       "        canvas.focus();\n",
       "        canvas_div.focus();\n",
       "    }\n",
       "\n",
       "    window.setTimeout(set_focus, 100);\n",
       "}\n",
       "\n",
       "mpl.figure.prototype._init_toolbar = function() {\n",
       "    var fig = this;\n",
       "\n",
       "    var nav_element = $('<div/>')\n",
       "    nav_element.attr('style', 'width: 100%');\n",
       "    this.root.append(nav_element);\n",
       "\n",
       "    // Define a callback function for later on.\n",
       "    function toolbar_event(event) {\n",
       "        return fig.toolbar_button_onclick(event['data']);\n",
       "    }\n",
       "    function toolbar_mouse_event(event) {\n",
       "        return fig.toolbar_button_onmouseover(event['data']);\n",
       "    }\n",
       "\n",
       "    for(var toolbar_ind in mpl.toolbar_items) {\n",
       "        var name = mpl.toolbar_items[toolbar_ind][0];\n",
       "        var tooltip = mpl.toolbar_items[toolbar_ind][1];\n",
       "        var image = mpl.toolbar_items[toolbar_ind][2];\n",
       "        var method_name = mpl.toolbar_items[toolbar_ind][3];\n",
       "\n",
       "        if (!name) {\n",
       "            // put a spacer in here.\n",
       "            continue;\n",
       "        }\n",
       "        var button = $('<button/>');\n",
       "        button.addClass('ui-button ui-widget ui-state-default ui-corner-all ' +\n",
       "                        'ui-button-icon-only');\n",
       "        button.attr('role', 'button');\n",
       "        button.attr('aria-disabled', 'false');\n",
       "        button.click(method_name, toolbar_event);\n",
       "        button.mouseover(tooltip, toolbar_mouse_event);\n",
       "\n",
       "        var icon_img = $('<span/>');\n",
       "        icon_img.addClass('ui-button-icon-primary ui-icon');\n",
       "        icon_img.addClass(image);\n",
       "        icon_img.addClass('ui-corner-all');\n",
       "\n",
       "        var tooltip_span = $('<span/>');\n",
       "        tooltip_span.addClass('ui-button-text');\n",
       "        tooltip_span.html(tooltip);\n",
       "\n",
       "        button.append(icon_img);\n",
       "        button.append(tooltip_span);\n",
       "\n",
       "        nav_element.append(button);\n",
       "    }\n",
       "\n",
       "    var fmt_picker_span = $('<span/>');\n",
       "\n",
       "    var fmt_picker = $('<select/>');\n",
       "    fmt_picker.addClass('mpl-toolbar-option ui-widget ui-widget-content');\n",
       "    fmt_picker_span.append(fmt_picker);\n",
       "    nav_element.append(fmt_picker_span);\n",
       "    this.format_dropdown = fmt_picker[0];\n",
       "\n",
       "    for (var ind in mpl.extensions) {\n",
       "        var fmt = mpl.extensions[ind];\n",
       "        var option = $(\n",
       "            '<option/>', {selected: fmt === mpl.default_extension}).html(fmt);\n",
       "        fmt_picker.append(option)\n",
       "    }\n",
       "\n",
       "    // Add hover states to the ui-buttons\n",
       "    $( \".ui-button\" ).hover(\n",
       "        function() { $(this).addClass(\"ui-state-hover\");},\n",
       "        function() { $(this).removeClass(\"ui-state-hover\");}\n",
       "    );\n",
       "\n",
       "    var status_bar = $('<span class=\"mpl-message\"/>');\n",
       "    nav_element.append(status_bar);\n",
       "    this.message = status_bar[0];\n",
       "}\n",
       "\n",
       "mpl.figure.prototype.request_resize = function(x_pixels, y_pixels) {\n",
       "    // Request matplotlib to resize the figure. Matplotlib will then trigger a resize in the client,\n",
       "    // which will in turn request a refresh of the image.\n",
       "    this.send_message('resize', {'width': x_pixels, 'height': y_pixels});\n",
       "}\n",
       "\n",
       "mpl.figure.prototype.send_message = function(type, properties) {\n",
       "    properties['type'] = type;\n",
       "    properties['figure_id'] = this.id;\n",
       "    this.ws.send(JSON.stringify(properties));\n",
       "}\n",
       "\n",
       "mpl.figure.prototype.send_draw_message = function() {\n",
       "    if (!this.waiting) {\n",
       "        this.waiting = true;\n",
       "        this.ws.send(JSON.stringify({type: \"draw\", figure_id: this.id}));\n",
       "    }\n",
       "}\n",
       "\n",
       "\n",
       "mpl.figure.prototype.handle_save = function(fig, msg) {\n",
       "    var format_dropdown = fig.format_dropdown;\n",
       "    var format = format_dropdown.options[format_dropdown.selectedIndex].value;\n",
       "    fig.ondownload(fig, format);\n",
       "}\n",
       "\n",
       "\n",
       "mpl.figure.prototype.handle_resize = function(fig, msg) {\n",
       "    var size = msg['size'];\n",
       "    if (size[0] != fig.canvas.width || size[1] != fig.canvas.height) {\n",
       "        fig._resize_canvas(size[0], size[1]);\n",
       "        fig.send_message(\"refresh\", {});\n",
       "    };\n",
       "}\n",
       "\n",
       "mpl.figure.prototype.handle_rubberband = function(fig, msg) {\n",
       "    var x0 = msg['x0'] / mpl.ratio;\n",
       "    var y0 = (fig.canvas.height - msg['y0']) / mpl.ratio;\n",
       "    var x1 = msg['x1'] / mpl.ratio;\n",
       "    var y1 = (fig.canvas.height - msg['y1']) / mpl.ratio;\n",
       "    x0 = Math.floor(x0) + 0.5;\n",
       "    y0 = Math.floor(y0) + 0.5;\n",
       "    x1 = Math.floor(x1) + 0.5;\n",
       "    y1 = Math.floor(y1) + 0.5;\n",
       "    var min_x = Math.min(x0, x1);\n",
       "    var min_y = Math.min(y0, y1);\n",
       "    var width = Math.abs(x1 - x0);\n",
       "    var height = Math.abs(y1 - y0);\n",
       "\n",
       "    fig.rubberband_context.clearRect(\n",
       "        0, 0, fig.canvas.width, fig.canvas.height);\n",
       "\n",
       "    fig.rubberband_context.strokeRect(min_x, min_y, width, height);\n",
       "}\n",
       "\n",
       "mpl.figure.prototype.handle_figure_label = function(fig, msg) {\n",
       "    // Updates the figure title.\n",
       "    fig.header.textContent = msg['label'];\n",
       "}\n",
       "\n",
       "mpl.figure.prototype.handle_cursor = function(fig, msg) {\n",
       "    var cursor = msg['cursor'];\n",
       "    switch(cursor)\n",
       "    {\n",
       "    case 0:\n",
       "        cursor = 'pointer';\n",
       "        break;\n",
       "    case 1:\n",
       "        cursor = 'default';\n",
       "        break;\n",
       "    case 2:\n",
       "        cursor = 'crosshair';\n",
       "        break;\n",
       "    case 3:\n",
       "        cursor = 'move';\n",
       "        break;\n",
       "    }\n",
       "    fig.rubberband_canvas.style.cursor = cursor;\n",
       "}\n",
       "\n",
       "mpl.figure.prototype.handle_message = function(fig, msg) {\n",
       "    fig.message.textContent = msg['message'];\n",
       "}\n",
       "\n",
       "mpl.figure.prototype.handle_draw = function(fig, msg) {\n",
       "    // Request the server to send over a new figure.\n",
       "    fig.send_draw_message();\n",
       "}\n",
       "\n",
       "mpl.figure.prototype.handle_image_mode = function(fig, msg) {\n",
       "    fig.image_mode = msg['mode'];\n",
       "}\n",
       "\n",
       "mpl.figure.prototype.updated_canvas_event = function() {\n",
       "    // Called whenever the canvas gets updated.\n",
       "    this.send_message(\"ack\", {});\n",
       "}\n",
       "\n",
       "// A function to construct a web socket function for onmessage handling.\n",
       "// Called in the figure constructor.\n",
       "mpl.figure.prototype._make_on_message_function = function(fig) {\n",
       "    return function socket_on_message(evt) {\n",
       "        if (evt.data instanceof Blob) {\n",
       "            /* FIXME: We get \"Resource interpreted as Image but\n",
       "             * transferred with MIME type text/plain:\" errors on\n",
       "             * Chrome.  But how to set the MIME type?  It doesn't seem\n",
       "             * to be part of the websocket stream */\n",
       "            evt.data.type = \"image/png\";\n",
       "\n",
       "            /* Free the memory for the previous frames */\n",
       "            if (fig.imageObj.src) {\n",
       "                (window.URL || window.webkitURL).revokeObjectURL(\n",
       "                    fig.imageObj.src);\n",
       "            }\n",
       "\n",
       "            fig.imageObj.src = (window.URL || window.webkitURL).createObjectURL(\n",
       "                evt.data);\n",
       "            fig.updated_canvas_event();\n",
       "            fig.waiting = false;\n",
       "            return;\n",
       "        }\n",
       "        else if (typeof evt.data === 'string' && evt.data.slice(0, 21) == \"data:image/png;base64\") {\n",
       "            fig.imageObj.src = evt.data;\n",
       "            fig.updated_canvas_event();\n",
       "            fig.waiting = false;\n",
       "            return;\n",
       "        }\n",
       "\n",
       "        var msg = JSON.parse(evt.data);\n",
       "        var msg_type = msg['type'];\n",
       "\n",
       "        // Call the  \"handle_{type}\" callback, which takes\n",
       "        // the figure and JSON message as its only arguments.\n",
       "        try {\n",
       "            var callback = fig[\"handle_\" + msg_type];\n",
       "        } catch (e) {\n",
       "            console.log(\"No handler for the '\" + msg_type + \"' message type: \", msg);\n",
       "            return;\n",
       "        }\n",
       "\n",
       "        if (callback) {\n",
       "            try {\n",
       "                // console.log(\"Handling '\" + msg_type + \"' message: \", msg);\n",
       "                callback(fig, msg);\n",
       "            } catch (e) {\n",
       "                console.log(\"Exception inside the 'handler_\" + msg_type + \"' callback:\", e, e.stack, msg);\n",
       "            }\n",
       "        }\n",
       "    };\n",
       "}\n",
       "\n",
       "// from http://stackoverflow.com/questions/1114465/getting-mouse-location-in-canvas\n",
       "mpl.findpos = function(e) {\n",
       "    //this section is from http://www.quirksmode.org/js/events_properties.html\n",
       "    var targ;\n",
       "    if (!e)\n",
       "        e = window.event;\n",
       "    if (e.target)\n",
       "        targ = e.target;\n",
       "    else if (e.srcElement)\n",
       "        targ = e.srcElement;\n",
       "    if (targ.nodeType == 3) // defeat Safari bug\n",
       "        targ = targ.parentNode;\n",
       "\n",
       "    // jQuery normalizes the pageX and pageY\n",
       "    // pageX,Y are the mouse positions relative to the document\n",
       "    // offset() returns the position of the element relative to the document\n",
       "    var x = e.pageX - $(targ).offset().left;\n",
       "    var y = e.pageY - $(targ).offset().top;\n",
       "\n",
       "    return {\"x\": x, \"y\": y};\n",
       "};\n",
       "\n",
       "/*\n",
       " * return a copy of an object with only non-object keys\n",
       " * we need this to avoid circular references\n",
       " * http://stackoverflow.com/a/24161582/3208463\n",
       " */\n",
       "function simpleKeys (original) {\n",
       "  return Object.keys(original).reduce(function (obj, key) {\n",
       "    if (typeof original[key] !== 'object')\n",
       "        obj[key] = original[key]\n",
       "    return obj;\n",
       "  }, {});\n",
       "}\n",
       "\n",
       "mpl.figure.prototype.mouse_event = function(event, name) {\n",
       "    var canvas_pos = mpl.findpos(event)\n",
       "\n",
       "    if (name === 'button_press')\n",
       "    {\n",
       "        this.canvas.focus();\n",
       "        this.canvas_div.focus();\n",
       "    }\n",
       "\n",
       "    var x = canvas_pos.x * mpl.ratio;\n",
       "    var y = canvas_pos.y * mpl.ratio;\n",
       "\n",
       "    this.send_message(name, {x: x, y: y, button: event.button,\n",
       "                             step: event.step,\n",
       "                             guiEvent: simpleKeys(event)});\n",
       "\n",
       "    /* This prevents the web browser from automatically changing to\n",
       "     * the text insertion cursor when the button is pressed.  We want\n",
       "     * to control all of the cursor setting manually through the\n",
       "     * 'cursor' event from matplotlib */\n",
       "    event.preventDefault();\n",
       "    return false;\n",
       "}\n",
       "\n",
       "mpl.figure.prototype._key_event_extra = function(event, name) {\n",
       "    // Handle any extra behaviour associated with a key event\n",
       "}\n",
       "\n",
       "mpl.figure.prototype.key_event = function(event, name) {\n",
       "\n",
       "    // Prevent repeat events\n",
       "    if (name == 'key_press')\n",
       "    {\n",
       "        if (event.which === this._key)\n",
       "            return;\n",
       "        else\n",
       "            this._key = event.which;\n",
       "    }\n",
       "    if (name == 'key_release')\n",
       "        this._key = null;\n",
       "\n",
       "    var value = '';\n",
       "    if (event.ctrlKey && event.which != 17)\n",
       "        value += \"ctrl+\";\n",
       "    if (event.altKey && event.which != 18)\n",
       "        value += \"alt+\";\n",
       "    if (event.shiftKey && event.which != 16)\n",
       "        value += \"shift+\";\n",
       "\n",
       "    value += 'k';\n",
       "    value += event.which.toString();\n",
       "\n",
       "    this._key_event_extra(event, name);\n",
       "\n",
       "    this.send_message(name, {key: value,\n",
       "                             guiEvent: simpleKeys(event)});\n",
       "    return false;\n",
       "}\n",
       "\n",
       "mpl.figure.prototype.toolbar_button_onclick = function(name) {\n",
       "    if (name == 'download') {\n",
       "        this.handle_save(this, null);\n",
       "    } else {\n",
       "        this.send_message(\"toolbar_button\", {name: name});\n",
       "    }\n",
       "};\n",
       "\n",
       "mpl.figure.prototype.toolbar_button_onmouseover = function(tooltip) {\n",
       "    this.message.textContent = tooltip;\n",
       "};\n",
       "mpl.toolbar_items = [[\"Home\", \"Reset original view\", \"fa fa-home icon-home\", \"home\"], [\"Back\", \"Back to  previous view\", \"fa fa-arrow-left icon-arrow-left\", \"back\"], [\"Forward\", \"Forward to next view\", \"fa fa-arrow-right icon-arrow-right\", \"forward\"], [\"\", \"\", \"\", \"\"], [\"Pan\", \"Pan axes with left mouse, zoom with right\", \"fa fa-arrows icon-move\", \"pan\"], [\"Zoom\", \"Zoom to rectangle\", \"fa fa-square-o icon-check-empty\", \"zoom\"], [\"\", \"\", \"\", \"\"], [\"Download\", \"Download plot\", \"fa fa-floppy-o icon-save\", \"download\"]];\n",
       "\n",
       "mpl.extensions = [\"eps\", \"jpeg\", \"pdf\", \"png\", \"ps\", \"raw\", \"svg\", \"tif\"];\n",
       "\n",
       "mpl.default_extension = \"png\";var comm_websocket_adapter = function(comm) {\n",
       "    // Create a \"websocket\"-like object which calls the given IPython comm\n",
       "    // object with the appropriate methods. Currently this is a non binary\n",
       "    // socket, so there is still some room for performance tuning.\n",
       "    var ws = {};\n",
       "\n",
       "    ws.close = function() {\n",
       "        comm.close()\n",
       "    };\n",
       "    ws.send = function(m) {\n",
       "        //console.log('sending', m);\n",
       "        comm.send(m);\n",
       "    };\n",
       "    // Register the callback with on_msg.\n",
       "    comm.on_msg(function(msg) {\n",
       "        //console.log('receiving', msg['content']['data'], msg);\n",
       "        // Pass the mpl event to the overriden (by mpl) onmessage function.\n",
       "        ws.onmessage(msg['content']['data'])\n",
       "    });\n",
       "    return ws;\n",
       "}\n",
       "\n",
       "mpl.mpl_figure_comm = function(comm, msg) {\n",
       "    // This is the function which gets called when the mpl process\n",
       "    // starts-up an IPython Comm through the \"matplotlib\" channel.\n",
       "\n",
       "    var id = msg.content.data.id;\n",
       "    // Get hold of the div created by the display call when the Comm\n",
       "    // socket was opened in Python.\n",
       "    var element = $(\"#\" + id);\n",
       "    var ws_proxy = comm_websocket_adapter(comm)\n",
       "\n",
       "    function ondownload(figure, format) {\n",
       "        window.open(figure.imageObj.src);\n",
       "    }\n",
       "\n",
       "    var fig = new mpl.figure(id, ws_proxy,\n",
       "                           ondownload,\n",
       "                           element.get(0));\n",
       "\n",
       "    // Call onopen now - mpl needs it, as it is assuming we've passed it a real\n",
       "    // web socket which is closed, not our websocket->open comm proxy.\n",
       "    ws_proxy.onopen();\n",
       "\n",
       "    fig.parent_element = element.get(0);\n",
       "    fig.cell_info = mpl.find_output_cell(\"<div id='\" + id + \"'></div>\");\n",
       "    if (!fig.cell_info) {\n",
       "        console.error(\"Failed to find cell for figure\", id, fig);\n",
       "        return;\n",
       "    }\n",
       "\n",
       "    var output_index = fig.cell_info[2]\n",
       "    var cell = fig.cell_info[0];\n",
       "\n",
       "};\n",
       "\n",
       "mpl.figure.prototype.handle_close = function(fig, msg) {\n",
       "    var width = fig.canvas.width/mpl.ratio\n",
       "    fig.root.unbind('remove')\n",
       "\n",
       "    // Update the output cell to use the data from the current canvas.\n",
       "    fig.push_to_output();\n",
       "    var dataURL = fig.canvas.toDataURL();\n",
       "    // Re-enable the keyboard manager in IPython - without this line, in FF,\n",
       "    // the notebook keyboard shortcuts fail.\n",
       "    IPython.keyboard_manager.enable()\n",
       "    $(fig.parent_element).html('<img src=\"' + dataURL + '\" width=\"' + width + '\">');\n",
       "    fig.close_ws(fig, msg);\n",
       "}\n",
       "\n",
       "mpl.figure.prototype.close_ws = function(fig, msg){\n",
       "    fig.send_message('closing', msg);\n",
       "    // fig.ws.close()\n",
       "}\n",
       "\n",
       "mpl.figure.prototype.push_to_output = function(remove_interactive) {\n",
       "    // Turn the data on the canvas into data in the output cell.\n",
       "    var width = this.canvas.width/mpl.ratio\n",
       "    var dataURL = this.canvas.toDataURL();\n",
       "    this.cell_info[1]['text/html'] = '<img src=\"' + dataURL + '\" width=\"' + width + '\">';\n",
       "}\n",
       "\n",
       "mpl.figure.prototype.updated_canvas_event = function() {\n",
       "    // Tell IPython that the notebook contents must change.\n",
       "    IPython.notebook.set_dirty(true);\n",
       "    this.send_message(\"ack\", {});\n",
       "    var fig = this;\n",
       "    // Wait a second, then push the new image to the DOM so\n",
       "    // that it is saved nicely (might be nice to debounce this).\n",
       "    setTimeout(function () { fig.push_to_output() }, 1000);\n",
       "}\n",
       "\n",
       "mpl.figure.prototype._init_toolbar = function() {\n",
       "    var fig = this;\n",
       "\n",
       "    var nav_element = $('<div/>')\n",
       "    nav_element.attr('style', 'width: 100%');\n",
       "    this.root.append(nav_element);\n",
       "\n",
       "    // Define a callback function for later on.\n",
       "    function toolbar_event(event) {\n",
       "        return fig.toolbar_button_onclick(event['data']);\n",
       "    }\n",
       "    function toolbar_mouse_event(event) {\n",
       "        return fig.toolbar_button_onmouseover(event['data']);\n",
       "    }\n",
       "\n",
       "    for(var toolbar_ind in mpl.toolbar_items){\n",
       "        var name = mpl.toolbar_items[toolbar_ind][0];\n",
       "        var tooltip = mpl.toolbar_items[toolbar_ind][1];\n",
       "        var image = mpl.toolbar_items[toolbar_ind][2];\n",
       "        var method_name = mpl.toolbar_items[toolbar_ind][3];\n",
       "\n",
       "        if (!name) { continue; };\n",
       "\n",
       "        var button = $('<button class=\"btn btn-default\" href=\"#\" title=\"' + name + '\"><i class=\"fa ' + image + ' fa-lg\"></i></button>');\n",
       "        button.click(method_name, toolbar_event);\n",
       "        button.mouseover(tooltip, toolbar_mouse_event);\n",
       "        nav_element.append(button);\n",
       "    }\n",
       "\n",
       "    // Add the status bar.\n",
       "    var status_bar = $('<span class=\"mpl-message\" style=\"text-align:right; float: right;\"/>');\n",
       "    nav_element.append(status_bar);\n",
       "    this.message = status_bar[0];\n",
       "\n",
       "    // Add the close button to the window.\n",
       "    var buttongrp = $('<div class=\"btn-group inline pull-right\"></div>');\n",
       "    var button = $('<button class=\"btn btn-mini btn-primary\" href=\"#\" title=\"Stop Interaction\"><i class=\"fa fa-power-off icon-remove icon-large\"></i></button>');\n",
       "    button.click(function (evt) { fig.handle_close(fig, {}); } );\n",
       "    button.mouseover('Stop Interaction', toolbar_mouse_event);\n",
       "    buttongrp.append(button);\n",
       "    var titlebar = this.root.find($('.ui-dialog-titlebar'));\n",
       "    titlebar.prepend(buttongrp);\n",
       "}\n",
       "\n",
       "mpl.figure.prototype._root_extra_style = function(el){\n",
       "    var fig = this\n",
       "    el.on(\"remove\", function(){\n",
       "\tfig.close_ws(fig, {});\n",
       "    });\n",
       "}\n",
       "\n",
       "mpl.figure.prototype._canvas_extra_style = function(el){\n",
       "    // this is important to make the div 'focusable\n",
       "    el.attr('tabindex', 0)\n",
       "    // reach out to IPython and tell the keyboard manager to turn it's self\n",
       "    // off when our div gets focus\n",
       "\n",
       "    // location in version 3\n",
       "    if (IPython.notebook.keyboard_manager) {\n",
       "        IPython.notebook.keyboard_manager.register_events(el);\n",
       "    }\n",
       "    else {\n",
       "        // location in version 2\n",
       "        IPython.keyboard_manager.register_events(el);\n",
       "    }\n",
       "\n",
       "}\n",
       "\n",
       "mpl.figure.prototype._key_event_extra = function(event, name) {\n",
       "    var manager = IPython.notebook.keyboard_manager;\n",
       "    if (!manager)\n",
       "        manager = IPython.keyboard_manager;\n",
       "\n",
       "    // Check for shift+enter\n",
       "    if (event.shiftKey && event.which == 13) {\n",
       "        this.canvas_div.blur();\n",
       "        // select the cell after this one\n",
       "        var index = IPython.notebook.find_cell_index(this.cell_info[0]);\n",
       "        IPython.notebook.select(index + 1);\n",
       "    }\n",
       "}\n",
       "\n",
       "mpl.figure.prototype.handle_save = function(fig, msg) {\n",
       "    fig.ondownload(fig, null);\n",
       "}\n",
       "\n",
       "\n",
       "mpl.find_output_cell = function(html_output) {\n",
       "    // Return the cell and output element which can be found *uniquely* in the notebook.\n",
       "    // Note - this is a bit hacky, but it is done because the \"notebook_saving.Notebook\"\n",
       "    // IPython event is triggered only after the cells have been serialised, which for\n",
       "    // our purposes (turning an active figure into a static one), is too late.\n",
       "    var cells = IPython.notebook.get_cells();\n",
       "    var ncells = cells.length;\n",
       "    for (var i=0; i<ncells; i++) {\n",
       "        var cell = cells[i];\n",
       "        if (cell.cell_type === 'code'){\n",
       "            for (var j=0; j<cell.output_area.outputs.length; j++) {\n",
       "                var data = cell.output_area.outputs[j];\n",
       "                if (data.data) {\n",
       "                    // IPython >= 3 moved mimebundle to data attribute of output\n",
       "                    data = data.data;\n",
       "                }\n",
       "                if (data['text/html'] == html_output) {\n",
       "                    return [cell, data, j];\n",
       "                }\n",
       "            }\n",
       "        }\n",
       "    }\n",
       "}\n",
       "\n",
       "// Register the function which deals with the matplotlib target/channel.\n",
       "// The kernel may be null if the page has been refreshed.\n",
       "if (IPython.notebook.kernel != null) {\n",
       "    IPython.notebook.kernel.comm_manager.register_target('matplotlib', mpl.mpl_figure_comm);\n",
       "}\n"
      ],
      "text/plain": [
       "<IPython.core.display.Javascript object>"
      ]
     },
     "metadata": {},
     "output_type": "display_data"
    },
    {
     "data": {
      "text/html": [
       "<img src=\"data:image/png;base64,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\" width=\"640\">"
      ],
      "text/plain": [
       "<IPython.core.display.HTML object>"
      ]
     },
     "metadata": {},
     "output_type": "display_data"
    },
    {
     "data": {
      "text/plain": [
       "[<matplotlib.lines.Line2D at 0x7f3c530a6908>]"
      ]
     },
     "execution_count": 6,
     "metadata": {},
     "output_type": "execute_result"
    }
   ],
   "source": [
    "# because the default is the line style '-', \n",
    "# nothing will be shown if we only pass in one point (3,2)\n",
    "plt.plot(3, 2)"
   ]
  },
  {
   "cell_type": "code",
   "execution_count": 7,
   "metadata": {
    "collapsed": false
   },
   "outputs": [
    {
     "data": {
      "text/plain": [
       "[<matplotlib.lines.Line2D at 0x7f3c3d984a20>]"
      ]
     },
     "execution_count": 7,
     "metadata": {},
     "output_type": "execute_result"
    }
   ],
   "source": [
    "# we can pass in '.' to plt.plot to indicate that we want\n",
    "# the point (3,2) to be indicated with a marker '.'\n",
    "# updated in figure above\n",
    "plt.plot(3, 2, '.')"
   ]
  },
  {
   "cell_type": "markdown",
   "metadata": {},
   "source": [
    "Let's see how to make a plot without using the scripting layer."
   ]
  },
  {
   "cell_type": "code",
   "execution_count": null,
   "metadata": {
    "collapsed": false
   },
   "outputs": [],
   "source": [
    "# First let's set the backend without using mpl.use() from the scripting layer\n",
    "from matplotlib.backends.backend_agg import FigureCanvasAgg\n",
    "from matplotlib.figure import Figure\n",
    "\n",
    "# create a new figure\n",
    "fig = Figure()\n",
    "\n",
    "# associate fig with the backend\n",
    "canvas = FigureCanvasAgg(fig)\n",
    "\n",
    "# add a subplot to the fig\n",
    "ax = fig.add_subplot(111)\n",
    "\n",
    "# plot the point (3,2)\n",
    "ax.plot(3, 2, '.')\n",
    "\n",
    "# save the figure to test.png\n",
    "# you can see this figure in your Jupyter workspace afterwards by going to\n",
    "# https://hub.coursera-notebooks.org/\n",
    "canvas.print_png('test.png')"
   ]
  },
  {
   "cell_type": "markdown",
   "metadata": {},
   "source": [
    "We can use html cell magic to display the image."
   ]
  },
  {
   "cell_type": "code",
   "execution_count": null,
   "metadata": {
    "collapsed": false
   },
   "outputs": [],
   "source": [
    "%%html\n",
    "<img src='test.png' />"
   ]
  },
  {
   "cell_type": "code",
   "execution_count": null,
   "metadata": {
    "collapsed": false
   },
   "outputs": [],
   "source": [
    "# create a new figure\n",
    "plt.figure()\n",
    "\n",
    "# plot the point (3,2) using the circle marker\n",
    "plt.plot(3, 2, 'o')\n",
    "\n",
    "# get the current axes\n",
    "ax = plt.gca()\n",
    "\n",
    "# Set axis properties [xmin, xmax, ymin, ymax]\n",
    "ax.axis([0,6,0,10])"
   ]
  },
  {
   "cell_type": "code",
   "execution_count": null,
   "metadata": {
    "collapsed": false
   },
   "outputs": [],
   "source": [
    "# create a new figure\n",
    "plt.figure()\n",
    "\n",
    "# plot the point (1.5, 1.5) using the circle marker\n",
    "plt.plot(1.5, 1.5, 'o')\n",
    "# plot the point (2, 2) using the circle marker\n",
    "plt.plot(2, 2, 'o')\n",
    "# plot the point (2.5, 2.5) using the circle marker\n",
    "plt.plot(2.5, 2.5, 'o')"
   ]
  },
  {
   "cell_type": "code",
   "execution_count": null,
   "metadata": {
    "collapsed": false
   },
   "outputs": [],
   "source": [
    "# get current axes\n",
    "ax = plt.gca()\n",
    "# get all the child objects the axes contains\n",
    "ax.get_children()"
   ]
  },
  {
   "cell_type": "markdown",
   "metadata": {},
   "source": [
    "# Scatterplots"
   ]
  },
  {
   "cell_type": "code",
   "execution_count": null,
   "metadata": {
    "collapsed": false,
    "scrolled": false
   },
   "outputs": [],
   "source": [
    "import numpy as np\n",
    "\n",
    "x = np.array([1,2,3,4,5,6,7,8])\n",
    "y = x\n",
    "\n",
    "plt.figure()\n",
    "plt.scatter(x, y) # similar to plt.plot(x, y, '.'), but the underlying child objects in the axes are not Line2D"
   ]
  },
  {
   "cell_type": "code",
   "execution_count": null,
   "metadata": {
    "collapsed": false
   },
   "outputs": [],
   "source": [
    "import numpy as np\n",
    "\n",
    "x = np.array([1,2,3,4,5,6,7,8])\n",
    "y = x\n",
    "\n",
    "# create a list of colors for each point to have\n",
    "# ['green', 'green', 'green', 'green', 'green', 'green', 'green', 'red']\n",
    "colors = ['green']*(len(x)-1)\n",
    "colors.append('red')\n",
    "\n",
    "plt.figure()\n",
    "\n",
    "# plot the point with size 100 and chosen colors\n",
    "plt.scatter(x, y, s=100, c=colors)"
   ]
  },
  {
   "cell_type": "code",
   "execution_count": null,
   "metadata": {
    "collapsed": false
   },
   "outputs": [],
   "source": [
    "# convert the two lists into a list of pairwise tuples\n",
    "zip_generator = zip([1,2,3,4,5], [6,7,8,9,10])\n",
    "\n",
    "print(list(zip_generator))\n",
    "# the above prints:\n",
    "# [(1, 6), (2, 7), (3, 8), (4, 9), (5, 10)]\n",
    "\n",
    "zip_generator = zip([1,2,3,4,5], [6,7,8,9,10])\n",
    "# The single star * unpacks a collection into positional arguments\n",
    "print(*zip_generator)\n",
    "# the above prints:\n",
    "# (1, 6) (2, 7) (3, 8) (4, 9) (5, 10)"
   ]
  },
  {
   "cell_type": "code",
   "execution_count": null,
   "metadata": {
    "collapsed": false
   },
   "outputs": [],
   "source": [
    "# use zip to convert 5 tuples with 2 elements each to 2 tuples with 5 elements each\n",
    "print(list(zip((1, 6), (2, 7), (3, 8), (4, 9), (5, 10))))\n",
    "# the above prints:\n",
    "# [(1, 2, 3, 4, 5), (6, 7, 8, 9, 10)]\n",
    "\n",
    "\n",
    "zip_generator = zip([1,2,3,4,5], [6,7,8,9,10])\n",
    "# let's turn the data back into 2 lists\n",
    "x, y = zip(*zip_generator) # This is like calling zip((1, 6), (2, 7), (3, 8), (4, 9), (5, 10))\n",
    "print(x)\n",
    "print(y)\n",
    "# the above prints:\n",
    "# (1, 2, 3, 4, 5)\n",
    "# (6, 7, 8, 9, 10)"
   ]
  },
  {
   "cell_type": "code",
   "execution_count": null,
   "metadata": {
    "collapsed": false
   },
   "outputs": [],
   "source": [
    "plt.figure()\n",
    "# plot a data series 'Tall students' in red using the first two elements of x and y\n",
    "plt.scatter(x[:2], y[:2], s=100, c='red', label='Tall students')\n",
    "# plot a second data series 'Short students' in blue using the last three elements of x and y \n",
    "plt.scatter(x[2:], y[2:], s=100, c='blue', label='Short students')"
   ]
  },
  {
   "cell_type": "code",
   "execution_count": null,
   "metadata": {
    "collapsed": false
   },
   "outputs": [],
   "source": [
    "# add a label to the x axis\n",
    "plt.xlabel('The number of times the child kicked a ball')\n",
    "# add a label to the y axis\n",
    "plt.ylabel('The grade of the student')\n",
    "# add a title\n",
    "plt.title('Relationship between ball kicking and grades')"
   ]
  },
  {
   "cell_type": "code",
   "execution_count": null,
   "metadata": {
    "collapsed": false
   },
   "outputs": [],
   "source": [
    "# add a legend (uses the labels from plt.scatter)\n",
    "plt.legend()"
   ]
  },
  {
   "cell_type": "code",
   "execution_count": null,
   "metadata": {
    "collapsed": false
   },
   "outputs": [],
   "source": [
    "# add the legend to loc=4 (the lower right hand corner), also gets rid of the frame and adds a title\n",
    "plt.legend(loc=4, frameon=False, title='Legend')"
   ]
  },
  {
   "cell_type": "code",
   "execution_count": null,
   "metadata": {
    "collapsed": false
   },
   "outputs": [],
   "source": [
    "# get children from current axes (the legend is the second to last item in this list)\n",
    "plt.gca().get_children()"
   ]
  },
  {
   "cell_type": "code",
   "execution_count": null,
   "metadata": {
    "collapsed": true
   },
   "outputs": [],
   "source": [
    "# get the legend from the current axes\n",
    "legend = plt.gca().get_children()[-2]"
   ]
  },
  {
   "cell_type": "code",
   "execution_count": null,
   "metadata": {
    "collapsed": false
   },
   "outputs": [],
   "source": [
    "# you can use get_children to navigate through the child artists\n",
    "legend.get_children()[0].get_children()[1].get_children()[0].get_children()"
   ]
  },
  {
   "cell_type": "code",
   "execution_count": null,
   "metadata": {
    "collapsed": false
   },
   "outputs": [],
   "source": [
    "# import the artist class from matplotlib\n",
    "from matplotlib.artist import Artist\n",
    "\n",
    "def rec_gc(art, depth=0):\n",
    "    if isinstance(art, Artist):\n",
    "        # increase the depth for pretty printing\n",
    "        print(\"  \" * depth + str(art))\n",
    "        for child in art.get_children():\n",
    "            rec_gc(child, depth+2)\n",
    "\n",
    "# Call this function on the legend artist to see what the legend is made up of\n",
    "rec_gc(plt.legend())"
   ]
  },
  {
   "cell_type": "markdown",
   "metadata": {},
   "source": [
    "# Line Plots"
   ]
  },
  {
   "cell_type": "code",
   "execution_count": null,
   "metadata": {
    "collapsed": false
   },
   "outputs": [],
   "source": [
    "import numpy as np\n",
    "\n",
    "linear_data = np.array([1,2,3,4,5,6,7,8])\n",
    "exponential_data = linear_data**2\n",
    "\n",
    "plt.figure()\n",
    "# plot the linear data and the exponential data\n",
    "plt.plot(linear_data, '-o', exponential_data, '-o')"
   ]
  },
  {
   "cell_type": "code",
   "execution_count": null,
   "metadata": {
    "collapsed": false
   },
   "outputs": [],
   "source": [
    "# plot another series with a dashed red line\n",
    "plt.plot([22,44,55], '--r')"
   ]
  },
  {
   "cell_type": "code",
   "execution_count": null,
   "metadata": {
    "collapsed": false
   },
   "outputs": [],
   "source": [
    "plt.xlabel('Some data')\n",
    "plt.ylabel('Some other data')\n",
    "plt.title('A title')\n",
    "# add a legend with legend entries (because we didn't have labels when we plotted the data series)\n",
    "plt.legend(['Baseline', 'Competition', 'Us'])"
   ]
  },
  {
   "cell_type": "code",
   "execution_count": null,
   "metadata": {
    "collapsed": false
   },
   "outputs": [],
   "source": [
    "# fill the area between the linear data and exponential data\n",
    "plt.gca().fill_between(range(len(linear_data)), \n",
    "                       linear_data, exponential_data, \n",
    "                       facecolor='blue', \n",
    "                       alpha=0.25)"
   ]
  },
  {
   "cell_type": "markdown",
   "metadata": {},
   "source": [
    "Let's try working with dates!"
   ]
  },
  {
   "cell_type": "code",
   "execution_count": null,
   "metadata": {
    "collapsed": false
   },
   "outputs": [],
   "source": [
    "plt.figure()\n",
    "\n",
    "observation_dates = np.arange('2017-01-01', '2017-01-09', dtype='datetime64[D]')\n",
    "\n",
    "plt.plot(observation_dates, linear_data, '-o',  observation_dates, exponential_data, '-o')"
   ]
  },
  {
   "cell_type": "markdown",
   "metadata": {},
   "source": [
    "Let's try using pandas"
   ]
  },
  {
   "cell_type": "code",
   "execution_count": null,
   "metadata": {
    "collapsed": false
   },
   "outputs": [],
   "source": [
    "import pandas as pd\n",
    "\n",
    "plt.figure()\n",
    "observation_dates = np.arange('2017-01-01', '2017-01-09', dtype='datetime64[D]')\n",
    "observation_dates = map(pd.to_datetime, observation_dates) # trying to plot a map will result in an error\n",
    "plt.plot(observation_dates, linear_data, '-o',  observation_dates, exponential_data, '-o')"
   ]
  },
  {
   "cell_type": "code",
   "execution_count": null,
   "metadata": {
    "collapsed": false
   },
   "outputs": [],
   "source": [
    "plt.figure()\n",
    "observation_dates = np.arange('2017-01-01', '2017-01-09', dtype='datetime64[D]')\n",
    "observation_dates = list(map(pd.to_datetime, observation_dates)) # convert the map to a list to get rid of the error\n",
    "plt.plot(observation_dates, linear_data, '-o',  observation_dates, exponential_data, '-o')"
   ]
  },
  {
   "cell_type": "code",
   "execution_count": null,
   "metadata": {
    "collapsed": false
   },
   "outputs": [],
   "source": [
    "x = plt.gca().xaxis\n",
    "\n",
    "# rotate the tick labels for the x axis\n",
    "for item in x.get_ticklabels():\n",
    "    item.set_rotation(45)"
   ]
  },
  {
   "cell_type": "code",
   "execution_count": null,
   "metadata": {
    "collapsed": false
   },
   "outputs": [],
   "source": [
    "# adjust the subplot so the text doesn't run off the image\n",
    "plt.subplots_adjust(bottom=0.25)"
   ]
  },
  {
   "cell_type": "code",
   "execution_count": null,
   "metadata": {
    "collapsed": false
   },
   "outputs": [],
   "source": [
    "ax = plt.gca()\n",
    "ax.set_xlabel('Date')\n",
    "ax.set_ylabel('Units')\n",
    "ax.set_title('Exponential vs. Linear performance')"
   ]
  },
  {
   "cell_type": "code",
   "execution_count": null,
   "metadata": {
    "collapsed": false
   },
   "outputs": [],
   "source": [
    "# you can add mathematical expressions in any text element\n",
    "ax.set_title(\"Exponential ($x^2$) vs. Linear ($x$) performance\")"
   ]
  },
  {
   "cell_type": "markdown",
   "metadata": {},
   "source": [
    "# Bar Charts"
   ]
  },
  {
   "cell_type": "code",
   "execution_count": null,
   "metadata": {
    "collapsed": false
   },
   "outputs": [],
   "source": [
    "plt.figure()\n",
    "xvals = range(len(linear_data))\n",
    "plt.bar(xvals, linear_data, width = 0.3)"
   ]
  },
  {
   "cell_type": "code",
   "execution_count": null,
   "metadata": {
    "collapsed": false
   },
   "outputs": [],
   "source": [
    "new_xvals = []\n",
    "\n",
    "# plot another set of bars, adjusting the new xvals to make up for the first set of bars plotted\n",
    "for item in xvals:\n",
    "    new_xvals.append(item+0.3)\n",
    "\n",
    "plt.bar(new_xvals, exponential_data, width = 0.3 ,color='red')"
   ]
  },
  {
   "cell_type": "code",
   "execution_count": null,
   "metadata": {
    "collapsed": false,
    "scrolled": true
   },
   "outputs": [],
   "source": [
    "from random import randint\n",
    "linear_err = [randint(0,15) for x in range(len(linear_data))] \n",
    "\n",
    "# This will plot a new set of bars with errorbars using the list of random error values\n",
    "plt.bar(xvals, linear_data, width = 0.3, yerr=linear_err)"
   ]
  },
  {
   "cell_type": "code",
   "execution_count": null,
   "metadata": {
    "collapsed": false
   },
   "outputs": [],
   "source": [
    "# stacked bar charts are also possible\n",
    "plt.figure()\n",
    "xvals = range(len(linear_data))\n",
    "plt.bar(xvals, linear_data, width = 0.3, color='b')\n",
    "plt.bar(xvals, exponential_data, width = 0.3, bottom=linear_data, color='r')"
   ]
  },
  {
   "cell_type": "code",
   "execution_count": null,
   "metadata": {
    "collapsed": false
   },
   "outputs": [],
   "source": [
    "# or use barh for horizontal bar charts\n",
    "plt.figure()\n",
    "xvals = range(len(linear_data))\n",
    "plt.barh(xvals, linear_data, height = 0.3, color='b')\n",
    "plt.barh(xvals, exponential_data, height = 0.3, left=linear_data, color='r')"
   ]
  }
 ],
 "metadata": {
  "kernelspec": {
   "display_name": "Python 3",
   "language": "python",
   "name": "python3"
  },
  "language_info": {
   "codemirror_mode": {
    "name": "ipython",
    "version": 3
   },
   "file_extension": ".py",
   "mimetype": "text/x-python",
   "name": "python",
   "nbconvert_exporter": "python",
   "pygments_lexer": "ipython3",
   "version": "3.5.2"
  }
 },
 "nbformat": 4,
 "nbformat_minor": 1
}
